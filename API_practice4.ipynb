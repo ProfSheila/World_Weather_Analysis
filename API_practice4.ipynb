{
 "cells": [
  {
   "cell_type": "code",
   "execution_count": 1,
   "id": "ade91d71",
   "metadata": {},
   "outputs": [],
   "source": [
    "# Create a practice set of random latitude and longitude combinations.\n",
    "x = [25.12903645, 25.92017388, 26.62509167, -59.98969384, 37.30571269]\n",
    "y = [-67.59741259, 11.09532135, 74.84233102, -76.89176677, -61.13376282]\n",
    "coordinates = zip(x, y)"
   ]
  },
  {
   "cell_type": "code",
   "execution_count": 2,
   "id": "67278a14",
   "metadata": {},
   "outputs": [],
   "source": [
    "# Use the citipy module to determine city based on latitude and longitude.\n",
    "from citipy import citipy"
   ]
  },
  {
   "cell_type": "code",
   "execution_count": 3,
   "id": "4ac3789d",
   "metadata": {},
   "outputs": [
    {
     "name": "stdout",
     "output_type": "stream",
     "text": [
      "cockburn town tc\n",
      "gat ly\n",
      "parvatsar in\n",
      "punta arenas cl\n",
      "saint george bm\n"
     ]
    }
   ],
   "source": [
    "# Use the tuple() function to display the latitude and longitude combinations.\n",
    "for coordinate in coordinates:\n",
    "    print(citipy.nearest_city(coordinate[0], coordinate[1]).city_name,\n",
    "          citipy.nearest_city(coordinate[0], coordinate[1]).country_code)"
   ]
  },
  {
   "cell_type": "code",
   "execution_count": 4,
   "id": "374e5059",
   "metadata": {},
   "outputs": [
    {
     "data": {
      "text/plain": [
       "0"
      ]
     },
     "execution_count": 4,
     "metadata": {},
     "output_type": "execute_result"
    }
   ],
   "source": [
    "# Create a list for holding the cities.\n",
    "cities = []\n",
    "# Identify the nearest city for each latitude and longitude combination.\n",
    "for coordinate in coordinates:\n",
    "    city = citipy.nearest_city(coordinate[0], coordinate[1]).city_name\n",
    "\n",
    "    # If the city is unique, then we will add it to the cities list.\n",
    "    if city not in cities:\n",
    "        cities.append(city)\n",
    "# Print the city count to confirm sufficient count.\n",
    "len(cities)"
   ]
  },
  {
   "cell_type": "code",
   "execution_count": 5,
   "id": "e5e12d2b",
   "metadata": {},
   "outputs": [],
   "source": [
    "# Import the NumPy module.\n",
    "import numpy as np"
   ]
  },
  {
   "cell_type": "code",
   "execution_count": 7,
   "id": "e7cad81b",
   "metadata": {},
   "outputs": [
    {
     "data": {
      "text/plain": [
       "array([ 72.56257696,  39.18876372,  73.40301462, -54.45215425,\n",
       "       -83.89736728, -50.70515735, -85.98057035,  63.60631188,\n",
       "        81.11568641, -15.90498757,  69.07083308,  60.38101745,\n",
       "        23.86923871,  64.48997327, -81.8332579 ,  -7.47755723,\n",
       "       -80.26613997, -37.2243905 , -63.86345585, -75.20960976,\n",
       "        60.85294491,  14.50948531,  -8.58438848,  87.52151216,\n",
       "       -62.95618044, -60.55786764,  44.54914483,  22.54880469,\n",
       "        40.47287627,  43.86513741,   3.54396197, -11.23026127,\n",
       "       -46.21972896,   7.88250807,  15.05165696, -10.45502024,\n",
       "        73.34826448, -47.19532659,  67.2288736 ,  89.78349516,\n",
       "        59.67185438,  15.61213975,   4.57046404,  43.03369085,\n",
       "        51.76485686,  34.50803305,  58.20802466,  24.25910863,\n",
       "       -33.49739554, -37.24654542])"
      ]
     },
     "execution_count": 7,
     "metadata": {},
     "output_type": "execute_result"
    }
   ],
   "source": [
    "#To get more than 500 cities, increase your size limit on the np.random.uniform() 6.1.5\n",
    "np.random.uniform(-90.000, 90.000, size=50)"
   ]
  },
  {
   "cell_type": "code",
   "execution_count": 8,
   "id": "e7379e40",
   "metadata": {},
   "outputs": [],
   "source": [
    "# Use the citipy module to determine city based on latitude and longitude.\n",
    "from citipy import citipy"
   ]
  },
  {
   "cell_type": "code",
   "execution_count": 12,
   "id": "ebb68c11",
   "metadata": {},
   "outputs": [],
   "source": [
    "# Use the tuple function to display the latitude and longitude combinations.\n",
    "for coordinate in coordinates:\n",
    "    print(citypy.nearest_city(coordinate[0], coordinate[1]).city_name, citypy.nearest_city(coordinate[0], coordinate [1]).country_code)"
   ]
  },
  {
   "cell_type": "code",
   "execution_count": 13,
   "id": "e6955a35",
   "metadata": {},
   "outputs": [
    {
     "data": {
      "text/plain": [
       "array([-40.24375759, -83.2776733 ,  -7.72255864,   6.08249787,\n",
       "       -77.71740714, -88.43390734, -33.61484538,  49.74150665,\n",
       "       -54.36878894, -41.74040876, -41.76299364,  77.01111073,\n",
       "       -36.11574259, -43.02158367,  51.56432752, -80.83200906,\n",
       "        74.53070073, -28.73889439, -21.71701939,  20.70417496,\n",
       "        64.42696645,  88.22548163,  15.97366049,   5.5134496 ,\n",
       "       -40.03445322,  43.21110128, -85.97549921, -15.79623522,\n",
       "        31.05521097, -67.02844326,  12.48895449, -48.98275029,\n",
       "        62.3763721 , -35.93680052,   2.99514567,  68.06452437,\n",
       "        51.70429052,  74.49907915, -12.31691195,  83.76298051,\n",
       "        52.49788501, -53.04759096,  26.63038304,  81.45599557,\n",
       "        76.90862732,  21.60312049, -38.96588383, -49.67134356,\n",
       "       -69.92306765,  -5.350415  ])"
      ]
     },
     "execution_count": 13,
     "metadata": {},
     "output_type": "execute_result"
    }
   ],
   "source": [
    "#Trying to get more than 500 cities, increase your size limit on the np.random.uniform() 6.1.5\n",
    "np.random.uniform(-90.000, 90.000, size=50)"
   ]
  },
  {
   "cell_type": "code",
   "execution_count": 14,
   "id": "90e11f45",
   "metadata": {},
   "outputs": [],
   "source": [
    "# Use the citipy module to determine city based on latitude and longitude.\n",
    "from citipy import citipy"
   ]
  },
  {
   "cell_type": "code",
   "execution_count": 15,
   "id": "9215127a",
   "metadata": {},
   "outputs": [],
   "source": [
    "# Use the tuple() function to display the latitude and longitude combinations.\n",
    "for coordinate in coordinates:\n",
    "    print(citipy.nearest_city(coordinate[0], coordinate[1]).city_name,\n",
    "          citipy.nearest_city(coordinate[0], coordinate[1]).country_code)"
   ]
  },
  {
   "cell_type": "code",
   "execution_count": 16,
   "id": "37e21383",
   "metadata": {},
   "outputs": [
    {
     "data": {
      "text/plain": [
       "0"
      ]
     },
     "execution_count": 16,
     "metadata": {},
     "output_type": "execute_result"
    }
   ],
   "source": [
    "# Create a list for holding the cities.\n",
    "cities = []\n",
    "# Identify the nearest city for each latitude and longitude combination.\n",
    "for coordinate in coordinates:\n",
    "    city = citipy.nearest_city(coordinate[0], coordinate[1]).city_name\n",
    "\n",
    "    # If the city is unique, then we will add it to the cities list.\n",
    "    if city not in cities:\n",
    "        cities.append(city)\n",
    "# Print the city count to confirm sufficient count.\n",
    "len(cities)"
   ]
  },
  {
   "cell_type": "code",
   "execution_count": 17,
   "id": "2459c8a7",
   "metadata": {},
   "outputs": [
    {
     "data": {
      "text/plain": [
       "array([-10.47965194,   7.2032635 ,  12.10991469, -29.47593957,\n",
       "       -42.46704395,  35.18509377, -25.46387146,  14.93719958,\n",
       "       -37.34366216,  20.69266215, -13.60578069, -47.675249  ,\n",
       "        -3.81854457,  46.70618146, -16.94915087, -43.29344548,\n",
       "        21.88211011, -40.80092912, -24.43318707,  41.27947193,\n",
       "       -11.17767815, -34.74549305, -28.11314633, -44.12654269,\n",
       "        63.92854274, -69.73929337,  39.22849061, -21.88748094,\n",
       "        70.22388496, -35.5822601 , -43.62138397,  53.71531442,\n",
       "        11.73121758, -31.1770465 , -33.16513652,  13.58712586,\n",
       "        -6.12541858, -84.03175745, -19.37790938, -26.27288732,\n",
       "         7.456424  ,  62.00959238, -37.86951227,  64.96734921,\n",
       "       -84.35584586,  20.78161702, -40.29384076,  23.09271126,\n",
       "        77.36960636, -42.11642046])"
      ]
     },
     "execution_count": 17,
     "metadata": {},
     "output_type": "execute_result"
    }
   ],
   "source": [
    "#Trying to get more than 500 cities, increase your size limit on the np.random.uniform() 6.1.5\n",
    "np.random.uniform(-90.000, 90.000, size=50)"
   ]
  },
  {
   "cell_type": "code",
   "execution_count": null,
   "id": "459fb54a",
   "metadata": {},
   "outputs": [],
   "source": [
    "#its not working!! "
   ]
  }
 ],
 "metadata": {
  "kernelspec": {
   "display_name": "Python 3 (ipykernel)",
   "language": "python",
   "name": "python3"
  },
  "language_info": {
   "codemirror_mode": {
    "name": "ipython",
    "version": 3
   },
   "file_extension": ".py",
   "mimetype": "text/x-python",
   "name": "python",
   "nbconvert_exporter": "python",
   "pygments_lexer": "ipython3",
   "version": "3.9.7"
  }
 },
 "nbformat": 4,
 "nbformat_minor": 5
}
